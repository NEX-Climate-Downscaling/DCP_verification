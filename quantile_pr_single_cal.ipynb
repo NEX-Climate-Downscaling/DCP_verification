{
 "cells": [
  {
   "cell_type": "code",
   "execution_count": null,
   "id": "ef8688d9-ab37-498b-b6c8-154fabe648f8",
   "metadata": {},
   "outputs": [],
   "source": [
    "\n",
    "import xarray as xr\n",
    "import numpy as np\n",
    "import dask.array as da\n",
    "import matplotlib.pyplot as plt\n",
    "from xmovie import Movie\n",
    "import imageio\n",
    "import os\n",
    "from dask.distributed import Client, LocalCluster\n",
    "from datetime import datetime,timedelta\n",
    "import glob\n",
    "import indices_function as ifun\n",
    "import warnings\n",
    "from rechunker import rechunk\n",
    "\n",
    "warnings.filterwarnings('ignore')\n",
    "\n"
   ]
  },
  {
   "cell_type": "code",
   "execution_count": null,
   "id": "e5671106-e3c3-46d5-bab4-fdbb28c297b6",
   "metadata": {},
   "outputs": [],
   "source": [
    "\n",
    "cluster = LocalCluster(\n",
    "    n_workers=20, \n",
    "    threads_per_worker=1,\n",
    "    timeout='5600s',\n",
    "    memory_limit='200GB',   \n",
    ")\n",
    "client = Client(cluster)\n",
    "client\n"
   ]
  },
  {
   "cell_type": "code",
   "execution_count": null,
   "id": "45b97cfd-20c9-4b1d-b385-b0dafd9f38c9",
   "metadata": {},
   "outputs": [],
   "source": [
    "import dask\n",
    "import xarray as xr\n",
    "\n",
    "# List of file names\n",
    "models=glob.glob(\"/nobackupp10/datapool/NEX-DCP30-CMIP6/*\")\n",
    "for model in models[:1]:\n",
    "    file_names=glob.glob(model+\"/historical/*/pr/*.nc\")\n",
    "    file_names.sort()\n",
    "    datasets =xr.open_mfdataset(file_names[34:]).chunk({\"time\":-1,\"lat\":700,\"lon\":700})\n",
    "    # datasets=datasets.where(datasets.pr<=0.256,0,datasets.pr)\n",
    "    quantile_models = ifun.nonzero_quantiles(datasets,[0.25,0.5,0.75,0.9])\n",
    "    target_chunks = {\n",
    "        \"pr\": {\"quantile\": 2, \"lat\": 700, \"lon\": 700},\n",
    "        \"quantile\": None,  # don't rechunk this array\n",
    "        \"lon\": None,\n",
    "        \"lat\": None,\n",
    "    }\n",
    "    max_mem =\"100GB\"\n",
    "    os.system(\"rm -rf /nobackupp10/skhajehe/dcp-indices/multimodel/quantile/temp_chunk_pr.zarr\")\n",
    "    os.system(\"rm -rf /nobackupp10/skhajehe/dcp-indices/multimodel/quantile/pr/\"+model.split(\"/\")[-1]+\"_test.zarr\")\n",
    "    target_store = \"/nobackupp10/skhajehe/dcp-indices/multimodel/quantile/pr/\"+model.split(\"/\")[-1]+\"_test.zarr\"\n",
    "    temp_store = \"/nobackupp10/skhajehe/dcp-indices/multimodel/quantile/temp_chunk_pr.zarr\"\n",
    "    # need to remove the existing stores or it won't work\n",
    "    # !rm -rf group_rechunked.zarr group_rechunked-tmp.zarr\n",
    "    array_plan = rechunk(\n",
    "        quantile_models, target_chunks, max_mem, target_store, temp_store=temp_store\n",
    "    )\n",
    "    array_plan.execute()\n"
   ]
  },
  {
   "cell_type": "code",
   "execution_count": null,
   "id": "7692dba4-6b3c-41d0-b610-90c2995d5b92",
   "metadata": {},
   "outputs": [],
   "source": [
    "import dask\n",
    "import xarray as xr\n",
    "\n",
    "variables=[\"vpr\"]\n",
    "for var in variables:\n",
    "    file_names=glob.glob(\"/nobackupp10/nexprojects/GDDP2/obs/prism/day/\"+var+\"/*.nc\")\n",
    "    file_names.sort()\n",
    "    # Open each file lazily using Dask and xarray\n",
    "    datasets =xr.open_mfdataset(file_names[3:]).chunk({\"time\":-1,\"lat\":700,\"lon\":700})\n",
    "    # Concatenate datasets along the time dimension using Dask and xarray\n",
    "    quantile_models = ifun.nonzero_quantiles(datasets,[0.25,0.5,0.75,0.9])\n",
    "\n",
    "    target_chunks = {\n",
    "        var: {\"quantile\": 4, \"lat\": 700, \"lon\": 700},\n",
    "        \"quantile\": None,  # don't rechunk this array\n",
    "        \"lon\": None,\n",
    "        \"lat\": None,\n",
    "    }\n",
    "    max_mem =\"100GB\"\n",
    "    os.system(\"rm -rf /nobackupp28/skhajehe/dcp-indices/prism/quantile/temp_chunk.zarr\")\n",
    "    os.system(\"rm -rf /nobackupp28/skhajehe/dcp-indices/prism/quantile/\"+var+\"/quantiles_sort.zarr\")\n",
    "    target_store = \"/nobackupp28/skhajehe/dcp-indices/prism/quantile/\"+var+\"/quantiles_sort.zarr\"\n",
    "    temp_store = \"/nobackupp28/skhajehe/dcp-indices/prism/quantile/temp_chunk.zarr\"\n",
    "    # need to remove the existing stores or it won't work\n",
    "    # !rm -rf group_rechunked.zarr group_rechunked-tmp.zarr\n",
    "    array_plan = rechunk(\n",
    "        quantile_models, target_chunks, max_mem, target_store, temp_store=temp_store\n",
    "    )\n",
    "    array_plan.execute()\n"
   ]
  },
  {
   "cell_type": "code",
   "execution_count": null,
   "id": "a38b7e25-5fd2-4bcc-ba9c-682de3377413",
   "metadata": {},
   "outputs": [],
   "source": []
  }
 ],
 "metadata": {
  "kernelspec": {
   "display_name": "Python 3 (ipykernel)",
   "language": "python",
   "name": "python3"
  },
  "language_info": {
   "codemirror_mode": {
    "name": "ipython",
    "version": 3
   },
   "file_extension": ".py",
   "mimetype": "text/x-python",
   "name": "python",
   "nbconvert_exporter": "python",
   "pygments_lexer": "ipython3",
   "version": "3.10.4"
  }
 },
 "nbformat": 4,
 "nbformat_minor": 5
}
